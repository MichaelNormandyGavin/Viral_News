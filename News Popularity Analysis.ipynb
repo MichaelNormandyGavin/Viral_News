{
 "cells": [
  {
   "cell_type": "markdown",
   "metadata": {},
   "source": [
    "# News Popularity across Platforms\n",
    "\n",
    "### Source: UCI Machine Learning Repository\n",
    "   ### Weblink: [UCI Website](https://archive.ics.uci.edu/ml/datasets/Parkinson+Disease+Spiral+Drawings+Using+Digitized+Graphics+Tablet#)\n",
    "    Nuno Moniz \n",
    "    LIAAD - INESC Tec; Sciences College, University of Porto \n",
    "    Email: nmmoniz@inesctec.pt \n",
    "\n",
    "    Luis Torgo \n",
    "    LIAAD - INESC Tec; Sciences College, University of Porto \n",
    "    Email: ltorgo@dcc.fc.up.pt\n",
    "### Relevant Papers:\n",
    "   #### Nuno Moniz and Luis Torgo (2018) [Multi-Source Social Feedback of Online News Feeds](https://arxiv.org/abs/1801.07055)"
   ]
  },
  {
   "cell_type": "code",
   "execution_count": 1,
   "metadata": {
    "collapsed": true
   },
   "outputs": [],
   "source": [
    "from viralnews.get_news import *\n",
    "from viralnews.data_tools import *\n",
    "\n",
    "import matplotlib.pyplot as plt\n",
    "%matplotlib inline\n",
    "plt.style.use('seaborn-paper')\n",
    "\n",
    "import seaborn as sb\n",
    "import numpy as np\n",
    "import pandas as pd\n",
    "import dask\n",
    "import dask.dataframe as dd\n",
    "\n",
    "from itertools import chain\n",
    "from collections import Counter"
   ]
  },
  {
   "cell_type": "code",
   "execution_count": 2,
   "metadata": {
    "collapsed": false
   },
   "outputs": [
    {
     "data": {
      "text/plain": [
       "'0.13.0'"
      ]
     },
     "execution_count": 2,
     "metadata": {},
     "output_type": "execute_result"
    }
   ],
   "source": [
    "dask.__version__"
   ]
  },
  {
   "cell_type": "code",
   "execution_count": 3,
   "metadata": {
    "collapsed": true
   },
   "outputs": [],
   "source": [
    "url = 'https://archive.ics.uci.edu/ml/machine-learning-databases/00432/Data/'"
   ]
  },
  {
   "cell_type": "code",
   "execution_count": 4,
   "metadata": {
    "collapsed": true
   },
   "outputs": [],
   "source": [
    "file = \"https://archive.ics.uci.edu/ml/machine-learning-databases/00432/Data/Facebook_Economy.csv\""
   ]
  },
  {
   "cell_type": "code",
   "execution_count": 5,
   "metadata": {
    "collapsed": true
   },
   "outputs": [],
   "source": [
    "fb_economy = pd.read_csv(file,index_col='IDLink')"
   ]
  },
  {
   "cell_type": "code",
   "execution_count": 6,
   "metadata": {
    "collapsed": false
   },
   "outputs": [
    {
     "data": {
      "text/html": [
       "<div>\n",
       "<table border=\"1\" class=\"dataframe\">\n",
       "  <thead>\n",
       "    <tr style=\"text-align: right;\">\n",
       "      <th></th>\n",
       "      <th>TS1</th>\n",
       "      <th>TS2</th>\n",
       "      <th>TS3</th>\n",
       "      <th>TS4</th>\n",
       "      <th>TS5</th>\n",
       "      <th>TS6</th>\n",
       "      <th>TS7</th>\n",
       "      <th>TS8</th>\n",
       "      <th>TS9</th>\n",
       "      <th>TS10</th>\n",
       "      <th>...</th>\n",
       "      <th>TS135</th>\n",
       "      <th>TS136</th>\n",
       "      <th>TS137</th>\n",
       "      <th>TS138</th>\n",
       "      <th>TS139</th>\n",
       "      <th>TS140</th>\n",
       "      <th>TS141</th>\n",
       "      <th>TS142</th>\n",
       "      <th>TS143</th>\n",
       "      <th>TS144</th>\n",
       "    </tr>\n",
       "    <tr>\n",
       "      <th>IDLink</th>\n",
       "      <th></th>\n",
       "      <th></th>\n",
       "      <th></th>\n",
       "      <th></th>\n",
       "      <th></th>\n",
       "      <th></th>\n",
       "      <th></th>\n",
       "      <th></th>\n",
       "      <th></th>\n",
       "      <th></th>\n",
       "      <th></th>\n",
       "      <th></th>\n",
       "      <th></th>\n",
       "      <th></th>\n",
       "      <th></th>\n",
       "      <th></th>\n",
       "      <th></th>\n",
       "      <th></th>\n",
       "      <th></th>\n",
       "      <th></th>\n",
       "      <th></th>\n",
       "    </tr>\n",
       "  </thead>\n",
       "  <tbody>\n",
       "    <tr>\n",
       "      <th>58440</th>\n",
       "      <td>-1</td>\n",
       "      <td>-1</td>\n",
       "      <td>-1</td>\n",
       "      <td>-1</td>\n",
       "      <td>-1</td>\n",
       "      <td>-1</td>\n",
       "      <td>-1</td>\n",
       "      <td>-1</td>\n",
       "      <td>-1</td>\n",
       "      <td>-1</td>\n",
       "      <td>...</td>\n",
       "      <td>1</td>\n",
       "      <td>1</td>\n",
       "      <td>1</td>\n",
       "      <td>1</td>\n",
       "      <td>1</td>\n",
       "      <td>1</td>\n",
       "      <td>1</td>\n",
       "      <td>1</td>\n",
       "      <td>1</td>\n",
       "      <td>1</td>\n",
       "    </tr>\n",
       "    <tr>\n",
       "      <th>58441</th>\n",
       "      <td>-1</td>\n",
       "      <td>-1</td>\n",
       "      <td>-1</td>\n",
       "      <td>-1</td>\n",
       "      <td>-1</td>\n",
       "      <td>-1</td>\n",
       "      <td>-1</td>\n",
       "      <td>-1</td>\n",
       "      <td>-1</td>\n",
       "      <td>-1</td>\n",
       "      <td>...</td>\n",
       "      <td>0</td>\n",
       "      <td>0</td>\n",
       "      <td>0</td>\n",
       "      <td>0</td>\n",
       "      <td>0</td>\n",
       "      <td>0</td>\n",
       "      <td>0</td>\n",
       "      <td>0</td>\n",
       "      <td>0</td>\n",
       "      <td>0</td>\n",
       "    </tr>\n",
       "    <tr>\n",
       "      <th>58444</th>\n",
       "      <td>-1</td>\n",
       "      <td>-1</td>\n",
       "      <td>-1</td>\n",
       "      <td>-1</td>\n",
       "      <td>-1</td>\n",
       "      <td>-1</td>\n",
       "      <td>-1</td>\n",
       "      <td>-1</td>\n",
       "      <td>-1</td>\n",
       "      <td>-1</td>\n",
       "      <td>...</td>\n",
       "      <td>0</td>\n",
       "      <td>0</td>\n",
       "      <td>0</td>\n",
       "      <td>0</td>\n",
       "      <td>0</td>\n",
       "      <td>0</td>\n",
       "      <td>0</td>\n",
       "      <td>0</td>\n",
       "      <td>0</td>\n",
       "      <td>0</td>\n",
       "    </tr>\n",
       "    <tr>\n",
       "      <th>58446</th>\n",
       "      <td>-1</td>\n",
       "      <td>-1</td>\n",
       "      <td>-1</td>\n",
       "      <td>-1</td>\n",
       "      <td>-1</td>\n",
       "      <td>-1</td>\n",
       "      <td>-1</td>\n",
       "      <td>-1</td>\n",
       "      <td>-1</td>\n",
       "      <td>-1</td>\n",
       "      <td>...</td>\n",
       "      <td>2</td>\n",
       "      <td>2</td>\n",
       "      <td>2</td>\n",
       "      <td>2</td>\n",
       "      <td>2</td>\n",
       "      <td>2</td>\n",
       "      <td>2</td>\n",
       "      <td>2</td>\n",
       "      <td>2</td>\n",
       "      <td>2</td>\n",
       "    </tr>\n",
       "    <tr>\n",
       "      <th>58447</th>\n",
       "      <td>-1</td>\n",
       "      <td>-1</td>\n",
       "      <td>-1</td>\n",
       "      <td>-1</td>\n",
       "      <td>-1</td>\n",
       "      <td>-1</td>\n",
       "      <td>-1</td>\n",
       "      <td>-1</td>\n",
       "      <td>-1</td>\n",
       "      <td>-1</td>\n",
       "      <td>...</td>\n",
       "      <td>-1</td>\n",
       "      <td>-1</td>\n",
       "      <td>-1</td>\n",
       "      <td>-1</td>\n",
       "      <td>-1</td>\n",
       "      <td>-1</td>\n",
       "      <td>-1</td>\n",
       "      <td>-1</td>\n",
       "      <td>-1</td>\n",
       "      <td>-1</td>\n",
       "    </tr>\n",
       "  </tbody>\n",
       "</table>\n",
       "<p>5 rows × 144 columns</p>\n",
       "</div>"
      ],
      "text/plain": [
       "        TS1  TS2  TS3  TS4  TS5  TS6  TS7  TS8  TS9  TS10  ...    TS135  \\\n",
       "IDLink                                                     ...            \n",
       "58440    -1   -1   -1   -1   -1   -1   -1   -1   -1    -1  ...        1   \n",
       "58441    -1   -1   -1   -1   -1   -1   -1   -1   -1    -1  ...        0   \n",
       "58444    -1   -1   -1   -1   -1   -1   -1   -1   -1    -1  ...        0   \n",
       "58446    -1   -1   -1   -1   -1   -1   -1   -1   -1    -1  ...        2   \n",
       "58447    -1   -1   -1   -1   -1   -1   -1   -1   -1    -1  ...       -1   \n",
       "\n",
       "        TS136  TS137  TS138  TS139  TS140  TS141  TS142  TS143  TS144  \n",
       "IDLink                                                                 \n",
       "58440       1      1      1      1      1      1      1      1      1  \n",
       "58441       0      0      0      0      0      0      0      0      0  \n",
       "58444       0      0      0      0      0      0      0      0      0  \n",
       "58446       2      2      2      2      2      2      2      2      2  \n",
       "58447      -1     -1     -1     -1     -1     -1     -1     -1     -1  \n",
       "\n",
       "[5 rows x 144 columns]"
      ]
     },
     "execution_count": 6,
     "metadata": {},
     "output_type": "execute_result"
    }
   ],
   "source": [
    "fb_economy.tail()"
   ]
  },
  {
   "cell_type": "code",
   "execution_count": 7,
   "metadata": {
    "collapsed": true
   },
   "outputs": [],
   "source": [
    "top_10 = fb_economy.TS144.nlargest(10).index"
   ]
  },
  {
   "cell_type": "markdown",
   "metadata": {},
   "source": [
    "**Investigating the lifespan of the ten most popular stories by TS144**"
   ]
  },
  {
   "cell_type": "code",
   "execution_count": 8,
   "metadata": {
    "collapsed": false
   },
   "outputs": [
    {
     "data": {
      "image/png": "[encoded data removed]",
      "text/plain": [
       "<matplotlib.figure.Figure at 0x8b2ff09940>"
      ]
     },
     "metadata": {},
     "output_type": "display_data"
    }
   ],
   "source": [
    "fb_economy.loc[top_10].T.plot(figsize=(12,8))\n",
    "plt.legend(loc='upper right')\n",
    "plt.title('Facebook Top 10 Most Popular Stories regarding the Economy Over Two Day Span',fontsize=14,fontweight='bold')\n",
    "plt.xlabel('Time Periods (Every 20 Minutes)',fontsize=14)\n",
    "plt.ylabel('Popularity Score',fontsize=14)\n",
    "plt.margins(0.02)\n",
    "plt.show()"
   ]
  },
  {
   "cell_type": "markdown",
   "metadata": {},
   "source": [
    "**Using the chain method to collect the periodic top ten stories and unpack the list of lists into a single list of dicts**"
   ]
  },
  {
   "cell_type": "code",
   "execution_count": 9,
   "metadata": {
    "collapsed": true
   },
   "outputs": [],
   "source": [
    "top_10_periodically = list(chain.from_iterable([list(fb_economy[k].nlargest(10).index) for k in list(fb_economy.columns)]))"
   ]
  },
  {
   "cell_type": "code",
   "execution_count": 10,
   "metadata": {
    "collapsed": false
   },
   "outputs": [
    {
     "data": {
      "text/plain": [
       "[47982, 46935, 45397, 2229, 7389, 43233, 43985, 48003, 51600, 2279]"
      ]
     },
     "execution_count": 10,
     "metadata": {},
     "output_type": "execute_result"
    }
   ],
   "source": [
    "top_10_periodically[:10]"
   ]
  },
  {
   "cell_type": "markdown",
   "metadata": {},
   "source": [
    "**Converting dicts into tuples to make it easier for DataFrame construction using .from_records(data) method**"
   ]
  },
  {
   "cell_type": "code",
   "execution_count": 11,
   "metadata": {
    "collapsed": true
   },
   "outputs": [],
   "source": [
    "count_top_10_appearances = [(k, v) for k, v in dict(Counter(top_10_periodically)).items()]"
   ]
  },
  {
   "cell_type": "code",
   "execution_count": 12,
   "metadata": {
    "collapsed": false
   },
   "outputs": [
    {
     "data": {
      "text/plain": [
       "[(47982, 25),\n",
       " (46935, 12),\n",
       " (45397, 5),\n",
       " (2229, 2),\n",
       " (7389, 2),\n",
       " (43233, 1),\n",
       " (43985, 1),\n",
       " (48003, 1),\n",
       " (51600, 1),\n",
       " (2279, 1)]"
      ]
     },
     "execution_count": 12,
     "metadata": {},
     "output_type": "execute_result"
    }
   ],
   "source": [
    "count_top_10_appearances[:10]"
   ]
  },
  {
   "cell_type": "code",
   "execution_count": 13,
   "metadata": {
    "collapsed": true
   },
   "outputs": [],
   "source": [
    "trending_df = pd.DataFrame.from_records(count_top_10_appearances,columns=['ID','Count']).set_index('ID')"
   ]
  },
  {
   "cell_type": "code",
   "execution_count": 14,
   "metadata": {
    "collapsed": false
   },
   "outputs": [
    {
     "data": {
      "image/png": "[encoded data removed]",
      "text/plain": [
       "<matplotlib.figure.Figure at 0x8b33825550>"
      ]
     },
     "metadata": {},
     "output_type": "display_data"
    }
   ],
   "source": [
    "fig = trending_df.sort_values(by='Count',ascending=False).plot(kind='barh',figsize=(12,8))\n",
    "plt.title('Most Popular Facebook Stories Regarding the Economy')\n",
    "plt.ylabel('Story ID')\n",
    "plt.xlabel('Appearances in Top Ten Stories')\n",
    "plt.show()"
   ]
  },
  {
   "cell_type": "code",
   "execution_count": 15,
   "metadata": {
    "collapsed": false
   },
   "outputs": [
    {
     "data": {
      "text/plain": [
       "49211"
      ]
     },
     "execution_count": 15,
     "metadata": {},
     "output_type": "execute_result"
    }
   ],
   "source": [
    "fb_economy.loc[27780].max()"
   ]
  },
  {
   "cell_type": "markdown",
   "metadata": {},
   "source": [
    "### Creating Delayed Objects from .csv files to speed things up"
   ]
  },
  {
   "cell_type": "code",
   "execution_count": 16,
   "metadata": {
    "collapsed": true
   },
   "outputs": [],
   "source": [
    "url_list = url_find()"
   ]
  },
  {
   "cell_type": "code",
   "execution_count": 17,
   "metadata": {
    "collapsed": false
   },
   "outputs": [
    {
     "data": {
      "text/plain": [
       "['Facebook_Economy',\n",
       " 'Facebook_Microsoft',\n",
       " 'Facebook_Obama',\n",
       " 'Facebook_Palestine',\n",
       " 'GooglePlus_Economy',\n",
       " 'GooglePlus_Microsoft',\n",
       " 'GooglePlus_Obama',\n",
       " 'GooglePlus_Palestine',\n",
       " 'LinkedIn_Economy',\n",
       " 'LinkedIn_Microsoft',\n",
       " 'LinkedIn_Obama',\n",
       " 'LinkedIn_Palestine']"
      ]
     },
     "execution_count": 17,
     "metadata": {},
     "output_type": "execute_result"
    }
   ],
   "source": [
    "url_list"
   ]
  },
  {
   "cell_type": "code",
   "execution_count": 18,
   "metadata": {
    "collapsed": true
   },
   "outputs": [],
   "source": [
    "delayed = [dask.delayed(df_read)(u) for u in url_list]"
   ]
  },
  {
   "cell_type": "code",
   "execution_count": 19,
   "metadata": {
    "collapsed": false
   },
   "outputs": [
    {
     "ename": "URLError",
     "evalue": "<urlopen error [WinError 10060] A connection attempt failed because the connected party did not properly respond after a period of time, or established connection failed because connected host has failed to respond>\n\nTraceback\n---------\n  File \"C:\\Users\\miich_000\\Anaconda3\\lib\\site-packages\\dask\\async.py\", line 268, in execute_task\n    result = _execute_task(task, data)\n  File \"C:\\Users\\miich_000\\Anaconda3\\lib\\site-packages\\dask\\async.py\", line 249, in _execute_task\n    return func(*args2)\n  File \"C:\\Users\\miich_000\\Documents\\Projects\\Viral_News\\viralnews\\get_news.py\", line 24, in df_read\n    df = pd.read_csv(full_path,index_col='IDLink')\n  File \"C:\\Users\\miich_000\\Anaconda3\\lib\\site-packages\\pandas\\io\\parsers.py\", line 646, in parser_f\n    return _read(filepath_or_buffer, kwds)\n  File \"C:\\Users\\miich_000\\Anaconda3\\lib\\site-packages\\pandas\\io\\parsers.py\", line 375, in _read\n    compression=kwds.get('compression', None))\n  File \"C:\\Users\\miich_000\\Anaconda3\\lib\\site-packages\\pandas\\io\\common.py\", line 238, in get_filepath_or_buffer\n    req = _urlopen(str(filepath_or_buffer))\n  File \"C:\\Users\\miich_000\\Anaconda3\\lib\\urllib\\request.py\", line 223, in urlopen\n    return opener.open(url, data, timeout)\n  File \"C:\\Users\\miich_000\\Anaconda3\\lib\\urllib\\request.py\", line 526, in open\n    response = self._open(req, data)\n  File \"C:\\Users\\miich_000\\Anaconda3\\lib\\urllib\\request.py\", line 544, in _open\n    '_open', req)\n  File \"C:\\Users\\miich_000\\Anaconda3\\lib\\urllib\\request.py\", line 504, in _call_chain\n    result = func(*args)\n  File \"C:\\Users\\miich_000\\Anaconda3\\lib\\urllib\\request.py\", line 1361, in https_open\n    context=self._context, check_hostname=self._check_hostname)\n  File \"C:\\Users\\miich_000\\Anaconda3\\lib\\urllib\\request.py\", line 1320, in do_open\n    raise URLError(err)\n",
     "output_type": "error",
     "traceback": [
      "\u001b[0;31m---------------------------------------------------------------------------\u001b[0m",
      "\u001b[0;31mURLError\u001b[0m                                  Traceback (most recent call last)",
      "\u001b[0;32m<ipython-input-19-c244729b7183>\u001b[0m in \u001b[0;36m<module>\u001b[0;34m()\u001b[0m\n\u001b[1;32m      1\u001b[0m \u001b[0mdelayed_df\u001b[0m \u001b[1;33m=\u001b[0m \u001b[0mdd\u001b[0m\u001b[1;33m.\u001b[0m\u001b[0mfrom_delayed\u001b[0m\u001b[1;33m(\u001b[0m\u001b[0mdelayed\u001b[0m\u001b[1;33m)\u001b[0m\u001b[1;33m\u001b[0m\u001b[0m\n\u001b[0;32m----> 2\u001b[0;31m \u001b[0mdelayed_df\u001b[0m \u001b[1;33m=\u001b[0m \u001b[0mdelayed_df\u001b[0m\u001b[1;33m.\u001b[0m\u001b[0mcompute\u001b[0m\u001b[1;33m(\u001b[0m\u001b[1;33m)\u001b[0m\u001b[1;33m.\u001b[0m\u001b[0mpersist\u001b[0m\u001b[1;33m(\u001b[0m\u001b[1;33m)\u001b[0m\u001b[1;33m\u001b[0m\u001b[0m\n\u001b[0m",
      "\u001b[0;32mC:\\Users\\miich_000\\Anaconda3\\lib\\site-packages\\dask\\base.py\u001b[0m in \u001b[0;36mcompute\u001b[0;34m(self, **kwargs)\u001b[0m\n\u001b[1;32m     77\u001b[0m             \u001b[0mExtra\u001b[0m \u001b[0mkeywords\u001b[0m \u001b[0mto\u001b[0m \u001b[0mforward\u001b[0m \u001b[0mto\u001b[0m \u001b[0mthe\u001b[0m \u001b[0mscheduler\u001b[0m\u001b[0;31m \u001b[0m\u001b[0;31m`\u001b[0m\u001b[0;31m`\u001b[0m\u001b[0mget\u001b[0m\u001b[0;31m`\u001b[0m\u001b[0;31m`\u001b[0m \u001b[0mfunction\u001b[0m\u001b[1;33m.\u001b[0m\u001b[1;33m\u001b[0m\u001b[0m\n\u001b[1;32m     78\u001b[0m         \"\"\"\n\u001b[0;32m---> 79\u001b[0;31m         \u001b[1;32mreturn\u001b[0m \u001b[0mcompute\u001b[0m\u001b[1;33m(\u001b[0m\u001b[0mself\u001b[0m\u001b[1;33m,\u001b[0m \u001b[1;33m**\u001b[0m\u001b[0mkwargs\u001b[0m\u001b[1;33m)\u001b[0m\u001b[1;33m[\u001b[0m\u001b[1;36m0\u001b[0m\u001b[1;33m]\u001b[0m\u001b[1;33m\u001b[0m\u001b[0m\n\u001b[0m\u001b[1;32m     80\u001b[0m \u001b[1;33m\u001b[0m\u001b[0m\n\u001b[1;32m     81\u001b[0m     \u001b[1;33m@\u001b[0m\u001b[0mclassmethod\u001b[0m\u001b[1;33m\u001b[0m\u001b[0m\n",
      "\u001b[0;32mC:\\Users\\miich_000\\Anaconda3\\lib\\site-packages\\dask\\base.py\u001b[0m in \u001b[0;36mcompute\u001b[0;34m(*args, **kwargs)\u001b[0m\n\u001b[1;32m    177\u001b[0m         \u001b[0mdsk\u001b[0m \u001b[1;33m=\u001b[0m \u001b[0mmerge\u001b[0m\u001b[1;33m(\u001b[0m\u001b[0mvar\u001b[0m\u001b[1;33m.\u001b[0m\u001b[0mdask\u001b[0m \u001b[1;32mfor\u001b[0m \u001b[0mvar\u001b[0m \u001b[1;32min\u001b[0m \u001b[0mvariables\u001b[0m\u001b[1;33m)\u001b[0m\u001b[1;33m\u001b[0m\u001b[0m\n\u001b[1;32m    178\u001b[0m     \u001b[0mkeys\u001b[0m \u001b[1;33m=\u001b[0m \u001b[1;33m[\u001b[0m\u001b[0mvar\u001b[0m\u001b[1;33m.\u001b[0m\u001b[0m_keys\u001b[0m\u001b[1;33m(\u001b[0m\u001b[1;33m)\u001b[0m \u001b[1;32mfor\u001b[0m \u001b[0mvar\u001b[0m \u001b[1;32min\u001b[0m \u001b[0mvariables\u001b[0m\u001b[1;33m]\u001b[0m\u001b[1;33m\u001b[0m\u001b[0m\n\u001b[0;32m--> 179\u001b[0;31m     \u001b[0mresults\u001b[0m \u001b[1;33m=\u001b[0m \u001b[0mget\u001b[0m\u001b[1;33m(\u001b[0m\u001b[0mdsk\u001b[0m\u001b[1;33m,\u001b[0m \u001b[0mkeys\u001b[0m\u001b[1;33m,\u001b[0m \u001b[1;33m**\u001b[0m\u001b[0mkwargs\u001b[0m\u001b[1;33m)\u001b[0m\u001b[1;33m\u001b[0m\u001b[0m\n\u001b[0m\u001b[1;32m    180\u001b[0m \u001b[1;33m\u001b[0m\u001b[0m\n\u001b[1;32m    181\u001b[0m     \u001b[0mresults_iter\u001b[0m \u001b[1;33m=\u001b[0m \u001b[0miter\u001b[0m\u001b[1;33m(\u001b[0m\u001b[0mresults\u001b[0m\u001b[1;33m)\u001b[0m\u001b[1;33m\u001b[0m\u001b[0m\n",
      "\u001b[0;32mC:\\Users\\miich_000\\Anaconda3\\lib\\site-packages\\dask\\threaded.py\u001b[0m in \u001b[0;36mget\u001b[0;34m(dsk, result, cache, num_workers, **kwargs)\u001b[0m\n\u001b[1;32m     74\u001b[0m     results = get_async(pool.apply_async, len(pool._pool), dsk, result,\n\u001b[1;32m     75\u001b[0m                         \u001b[0mcache\u001b[0m\u001b[1;33m=\u001b[0m\u001b[0mcache\u001b[0m\u001b[1;33m,\u001b[0m \u001b[0mget_id\u001b[0m\u001b[1;33m=\u001b[0m\u001b[0m_thread_get_id\u001b[0m\u001b[1;33m,\u001b[0m\u001b[1;33m\u001b[0m\u001b[0m\n\u001b[0;32m---> 76\u001b[0;31m                         **kwargs)\n\u001b[0m\u001b[1;32m     77\u001b[0m \u001b[1;33m\u001b[0m\u001b[0m\n\u001b[1;32m     78\u001b[0m     \u001b[1;31m# Cleanup pools associated to dead threads\u001b[0m\u001b[1;33m\u001b[0m\u001b[1;33m\u001b[0m\u001b[0m\n",
      "\u001b[0;32mC:\\Users\\miich_000\\Anaconda3\\lib\\site-packages\\dask\\async.py\u001b[0m in \u001b[0;36mget_async\u001b[0;34m(apply_async, num_workers, dsk, result, cache, get_id, raise_on_exception, rerun_exceptions_locally, callbacks, dumps, loads, **kwargs)\u001b[0m\n\u001b[1;32m    491\u001b[0m                     \u001b[0m_execute_task\u001b[0m\u001b[1;33m(\u001b[0m\u001b[0mtask\u001b[0m\u001b[1;33m,\u001b[0m \u001b[0mdata\u001b[0m\u001b[1;33m)\u001b[0m  \u001b[1;31m# Re-execute locally\u001b[0m\u001b[1;33m\u001b[0m\u001b[0m\n\u001b[1;32m    492\u001b[0m                 \u001b[1;32melse\u001b[0m\u001b[1;33m:\u001b[0m\u001b[1;33m\u001b[0m\u001b[0m\n\u001b[0;32m--> 493\u001b[0;31m                     \u001b[1;32mraise\u001b[0m\u001b[1;33m(\u001b[0m\u001b[0mremote_exception\u001b[0m\u001b[1;33m(\u001b[0m\u001b[0mres\u001b[0m\u001b[1;33m,\u001b[0m \u001b[0mtb\u001b[0m\u001b[1;33m)\u001b[0m\u001b[1;33m)\u001b[0m\u001b[1;33m\u001b[0m\u001b[0m\n\u001b[0m\u001b[1;32m    494\u001b[0m             \u001b[0mstate\u001b[0m\u001b[1;33m[\u001b[0m\u001b[1;34m'cache'\u001b[0m\u001b[1;33m]\u001b[0m\u001b[1;33m[\u001b[0m\u001b[0mkey\u001b[0m\u001b[1;33m]\u001b[0m \u001b[1;33m=\u001b[0m \u001b[0mres\u001b[0m\u001b[1;33m\u001b[0m\u001b[0m\n\u001b[1;32m    495\u001b[0m             \u001b[0mfinish_task\u001b[0m\u001b[1;33m(\u001b[0m\u001b[0mdsk\u001b[0m\u001b[1;33m,\u001b[0m \u001b[0mkey\u001b[0m\u001b[1;33m,\u001b[0m \u001b[0mstate\u001b[0m\u001b[1;33m,\u001b[0m \u001b[0mresults\u001b[0m\u001b[1;33m,\u001b[0m \u001b[0mkeyorder\u001b[0m\u001b[1;33m.\u001b[0m\u001b[0mget\u001b[0m\u001b[1;33m)\u001b[0m\u001b[1;33m\u001b[0m\u001b[0m\n",
      "\u001b[0;31mURLError\u001b[0m: <urlopen error [WinError 10060] A connection attempt failed because the connected party did not properly respond after a period of time, or established connection failed because connected host has failed to respond>\n\nTraceback\n---------\n  File \"C:\\Users\\miich_000\\Anaconda3\\lib\\site-packages\\dask\\async.py\", line 268, in execute_task\n    result = _execute_task(task, data)\n  File \"C:\\Users\\miich_000\\Anaconda3\\lib\\site-packages\\dask\\async.py\", line 249, in _execute_task\n    return func(*args2)\n  File \"C:\\Users\\miich_000\\Documents\\Projects\\Viral_News\\viralnews\\get_news.py\", line 24, in df_read\n    df = pd.read_csv(full_path,index_col='IDLink')\n  File \"C:\\Users\\miich_000\\Anaconda3\\lib\\site-packages\\pandas\\io\\parsers.py\", line 646, in parser_f\n    return _read(filepath_or_buffer, kwds)\n  File \"C:\\Users\\miich_000\\Anaconda3\\lib\\site-packages\\pandas\\io\\parsers.py\", line 375, in _read\n    compression=kwds.get('compression', None))\n  File \"C:\\Users\\miich_000\\Anaconda3\\lib\\site-packages\\pandas\\io\\common.py\", line 238, in get_filepath_or_buffer\n    req = _urlopen(str(filepath_or_buffer))\n  File \"C:\\Users\\miich_000\\Anaconda3\\lib\\urllib\\request.py\", line 223, in urlopen\n    return opener.open(url, data, timeout)\n  File \"C:\\Users\\miich_000\\Anaconda3\\lib\\urllib\\request.py\", line 526, in open\n    response = self._open(req, data)\n  File \"C:\\Users\\miich_000\\Anaconda3\\lib\\urllib\\request.py\", line 544, in _open\n    '_open', req)\n  File \"C:\\Users\\miich_000\\Anaconda3\\lib\\urllib\\request.py\", line 504, in _call_chain\n    result = func(*args)\n  File \"C:\\Users\\miich_000\\Anaconda3\\lib\\urllib\\request.py\", line 1361, in https_open\n    context=self._context, check_hostname=self._check_hostname)\n  File \"C:\\Users\\miich_000\\Anaconda3\\lib\\urllib\\request.py\", line 1320, in do_open\n    raise URLError(err)\n"
     ]
    }
   ],
   "source": [
    "delayed_df = dd.from_delayed(delayed)\n",
    "delayed_df = delayed_df.compute().persist()"
   ]
  },
  {
   "cell_type": "code",
   "execution_count": null,
   "metadata": {
    "collapsed": true
   },
   "outputs": [],
   "source": [
    "platform_group = delayed_df.drop(['Platform','Topic'],axis=1).groupby('Platform_Topic')"
   ]
  },
  {
   "cell_type": "code",
   "execution_count": null,
   "metadata": {
    "collapsed": false
   },
   "outputs": [],
   "source": [
    "platform_group.mean().head()"
   ]
  },
  {
   "cell_type": "code",
   "execution_count": null,
   "metadata": {
    "collapsed": false
   },
   "outputs": [],
   "source": [
    "platform_group.mean().compute().T.plot(figsize=(12,10))\n",
    "plt.ylabel('Popularity')\n",
    "plt.xlabel('Time Periods (Every 20 Minutes)')"
   ]
  },
  {
   "cell_type": "markdown",
   "metadata": {},
   "source": [
    "### Unsurprisingly, Facebook articles on Obama drew the most attention."
   ]
  },
  {
   "cell_type": "code",
   "execution_count": null,
   "metadata": {
    "collapsed": false
   },
   "outputs": [],
   "source": [
    "#for some reason, it is not letting me perform .nlargest() on the SeriesGroupBy object - Dask issue?\n",
    "#Instead, I am using .apply() with a lambda nlargest function\n",
    "\n",
    "top_10_by_platform_topic = pd.DataFrame(platform_group.TS144.apply(lambda x: x.nlargest(10)).compute())"
   ]
  },
  {
   "cell_type": "code",
   "execution_count": null,
   "metadata": {
    "collapsed": true
   },
   "outputs": [],
   "source": [
    "top_10_df = pd.melt(top_10_by_platform_topic.reset_index(),id_vars=['IDLink','Platform_Topic'],value_vars=['TS144'],value_name='Popularity after 2 Days')\n",
    "top_10_df.drop('variable',axis=1,inplace=True)"
   ]
  },
  {
   "cell_type": "code",
   "execution_count": null,
   "metadata": {
    "collapsed": true
   },
   "outputs": [],
   "source": [
    "top_10_df.set_index('IDLink',drop=True,inplace=True)"
   ]
  },
  {
   "cell_type": "code",
   "execution_count": null,
   "metadata": {
    "collapsed": true
   },
   "outputs": [],
   "source": [
    "top_10_df.index = top_10_df.index.astype('object')"
   ]
  },
  {
   "cell_type": "code",
   "execution_count": null,
   "metadata": {
    "collapsed": false
   },
   "outputs": [],
   "source": [
    "top_10_df.head(20)"
   ]
  },
  {
   "cell_type": "code",
   "execution_count": null,
   "metadata": {
    "collapsed": true
   },
   "outputs": [],
   "source": [
    "top_articles_platform_topic = list(top_10_df.index)"
   ]
  },
  {
   "cell_type": "code",
   "execution_count": null,
   "metadata": {
    "collapsed": false
   },
   "outputs": [],
   "source": [
    "top_articles_platform_topic"
   ]
  },
  {
   "cell_type": "code",
   "execution_count": null,
   "metadata": {
    "collapsed": true
   },
   "outputs": [],
   "source": [
    "top_articles = delayed_df.compute().loc[top_articles_platform_topic]"
   ]
  },
  {
   "cell_type": "code",
   "execution_count": null,
   "metadata": {
    "collapsed": true
   },
   "outputs": [],
   "source": [
    "multiple_appearances = top_articles.loc[top_articles.index.value_counts() >5]"
   ]
  },
  {
   "cell_type": "code",
   "execution_count": null,
   "metadata": {
    "collapsed": false
   },
   "outputs": [],
   "source": [
    "multiple_appearances.drop(['Platform','Topic','Platform_Topic'],axis=1).T.plot(legend=False,figsize=(12,10))"
   ]
  },
  {
   "cell_type": "code",
   "execution_count": null,
   "metadata": {
    "collapsed": false
   },
   "outputs": [],
   "source": [
    "multiple_appearances[multiple_appearances.Platform == 'Facebook'].Topic.value_counts()"
   ]
  },
  {
   "cell_type": "code",
   "execution_count": null,
   "metadata": {
    "collapsed": false
   },
   "outputs": [],
   "source": [
    "fig, charts = plt.subplots(nrows=3,ncols=4,figsize=(15,12),sharex=True,sharey=True)\n",
    "\n",
    "for platform_topic, chart in zip(url_list,charts.flatten()):\n",
    "    df = top_articles.drop(['Platform','Topic'],axis=1)\n",
    "    platform, topic = platform_topic.split('_')\n",
    "    df = df[df['Platform_Topic'] == platform_topic]\n",
    "    df.drop('Platform_Topic',axis=1,inplace=True)\n",
    "    df.T.plot(ax=chart,legend=False)\n",
    "    chart.set_title('{} - {}'.format(platform,topic))\n",
    "\n",
    "plt.suptitle('Top 10 Stories Trend by Platform/Topic Over 2 Day Span',fontsize=16)\n",
    "plt.figure(figsize=(12,10))\n",
    "plt.show()"
   ]
  },
  {
   "cell_type": "markdown",
   "metadata": {},
   "source": [
    "## Observations thus far: ##\n",
    "\n",
    "    - Facebook appears to have been the preferred platform for sharing new stories\n",
    "    - GooglePlus was a near non-factor in news popularity metrics\n",
    "    - LinkedIn cares a lot about Microsoft, due to Microsoft's acquisition of the site (June 2016)"
   ]
  },
  {
   "cell_type": "code",
   "execution_count": null,
   "metadata": {
    "collapsed": false
   },
   "outputs": [],
   "source": [
    "news_final = dd.from_delayed(dask.delayed(pd.read_csv)(url+'News_Final.csv'))\n",
    "news_final = news_final.persist()"
   ]
  },
  {
   "cell_type": "code",
   "execution_count": null,
   "metadata": {
    "collapsed": false
   },
   "outputs": [],
   "source": [
    "#news_final.IDLink = news_final.IDLink.astype('int64').astype('object')\n",
    "news_final.head()"
   ]
  },
  {
   "cell_type": "code",
   "execution_count": null,
   "metadata": {
    "collapsed": false
   },
   "outputs": [],
   "source": [
    "sb.regplot(x='SentimentTitle',y='Facebook',data=news_final.compute(),color='blue',scatter_kws={'alpha':0.2})\n",
    "sb.regplot(x='SentimentHeadline',y='Facebook',data=news_final.compute(),color='orange',scatter_kws={'alpha':0.2})\n",
    "plt.ylabel('News Article Popularity')\n",
    "plt.title('Facebook Sentiment Analysis vs. Popularity')\n",
    "plt.show()"
   ]
  },
  {
   "cell_type": "code",
   "execution_count": null,
   "metadata": {
    "collapsed": false
   },
   "outputs": [],
   "source": [
    "sb.regplot(x='SentimentTitle',y='LinkedIn',data=news_final.compute(),color='blue',scatter_kws={'alpha':0.2})\n",
    "sb.regplot(x='SentimentHeadline',y='LinkedIn',data=news_final.compute(),color='orange',scatter_kws={'alpha':0.2})\n",
    "plt.ylabel('News Article Popularity')\n",
    "plt.title('LinkedIn Sentiment Analysis vs. Popularity')\n",
    "plt.show()"
   ]
  },
  {
   "cell_type": "markdown",
   "metadata": {},
   "source": [
    "### Perhaps surprisingly, the most popular articles appear to have a neutral sentiment"
   ]
  },
  {
   "cell_type": "code",
   "execution_count": null,
   "metadata": {
    "collapsed": true
   },
   "outputs": [],
   "source": [
    "from sklearn.linear_model import LinearRegression\n",
    "from sklearn.preprocessing import PolynomialFeatures\n",
    "from sklearn.model_selection import cross_val_score, train_test_split"
   ]
  },
  {
   "cell_type": "code",
   "execution_count": null,
   "metadata": {
    "collapsed": true
   },
   "outputs": [],
   "source": [
    "news_final = pd.DataFrame(news_final.compute())"
   ]
  },
  {
   "cell_type": "code",
   "execution_count": null,
   "metadata": {
    "collapsed": true
   },
   "outputs": [],
   "source": [
    "facebook_df = news_final[news_final['Facebook'] > 0].drop(['GooglePlus','LinkedIn'],axis=1)"
   ]
  },
  {
   "cell_type": "code",
   "execution_count": null,
   "metadata": {
    "collapsed": true
   },
   "outputs": [],
   "source": [
    "linreg = LinearRegression()\n",
    "polyfit = PolynomialFeatures()"
   ]
  },
  {
   "cell_type": "code",
   "execution_count": null,
   "metadata": {
    "collapsed": true
   },
   "outputs": [],
   "source": [
    "X_fb = facebook_df[['SentimentTitle','SentimentHeadline']].values\n",
    "y_fb = facebook_df['Facebook'].values"
   ]
  },
  {
   "cell_type": "code",
   "execution_count": null,
   "metadata": {
    "collapsed": true
   },
   "outputs": [],
   "source": [
    "X_fb_poly = polyfit.fit_transform(X_fb)"
   ]
  },
  {
   "cell_type": "code",
   "execution_count": null,
   "metadata": {
    "collapsed": true
   },
   "outputs": [],
   "source": [
    "r2_scores = cross_val_score(linreg,X_fb_poly,y_fb,cv=5)"
   ]
  },
  {
   "cell_type": "code",
   "execution_count": null,
   "metadata": {
    "collapsed": false
   },
   "outputs": [],
   "source": [
    "r2_scores"
   ]
  },
  {
   "cell_type": "markdown",
   "metadata": {},
   "source": [
    "### No linear relationship between sentiment score and popularity, which underlying relationship would fit better?"
   ]
  },
  {
   "cell_type": "code",
   "execution_count": null,
   "metadata": {
    "collapsed": false
   },
   "outputs": [],
   "source": [
    "len(facebook_df)"
   ]
  },
  {
   "cell_type": "code",
   "execution_count": null,
   "metadata": {
    "collapsed": false
   },
   "outputs": [],
   "source": [
    "sb.regplot(x='SentimentTitle',y='Facebook',data=facebook_df,color='blue',scatter_kws={'alpha':0.2})\n",
    "sb.regplot(x='SentimentHeadline',y='Facebook',data=facebook_df,color='orange',scatter_kws={'alpha':0.2})\n",
    "plt.show()"
   ]
  },
  {
   "cell_type": "code",
   "execution_count": null,
   "metadata": {
    "collapsed": true
   },
   "outputs": [],
   "source": [
    "news_final = add_sent_max(news_final)"
   ]
  },
  {
   "cell_type": "code",
   "execution_count": null,
   "metadata": {
    "collapsed": false
   },
   "outputs": [],
   "source": [
    "for n in ['Facebook','LinkedIn','GooglePlus']:\n",
    "    news_final[n] = news_final[n].replace(-1,np.median(news_final[n]))\n",
    "news_final.head()"
   ]
  },
  {
   "cell_type": "code",
   "execution_count": null,
   "metadata": {
    "collapsed": false
   },
   "outputs": [],
   "source": [
    "news_topic_by_source = pd.get_dummies(news_final,columns=['Topic'],prefix='top',prefix_sep='_')\n",
    "news_topic_by_source.head()"
   ]
  },
  {
   "cell_type": "code",
   "execution_count": null,
   "metadata": {
    "collapsed": false
   },
   "outputs": [],
   "source": [
    "news_topic_by_source.Source.value_counts()[:500].sum() / len(news_topic_by_source)"
   ]
  },
  {
   "cell_type": "code",
   "execution_count": null,
   "metadata": {
    "collapsed": true
   },
   "outputs": [],
   "source": [
    "prolific_sources = list(news_topic_by_source.Source.value_counts()[:500].index)"
   ]
  },
  {
   "cell_type": "code",
   "execution_count": null,
   "metadata": {
    "collapsed": false
   },
   "outputs": [],
   "source": [
    "prolific_sources[:10]"
   ]
  },
  {
   "cell_type": "code",
   "execution_count": null,
   "metadata": {
    "collapsed": true
   },
   "outputs": [],
   "source": [
    "proportion_topic_by_source = news_topic_by_source.loc[:,['Source',\n",
    "                                           'top_economy',\n",
    "                                           'top_microsoft',\n",
    "                                           'top_obama',\n",
    "                                           'top_palestine']].groupby('Source').mean()"
   ]
  },
  {
   "cell_type": "code",
   "execution_count": null,
   "metadata": {
    "collapsed": false
   },
   "outputs": [],
   "source": [
    "trimmed_proportion_topic_by_source = proportion_topic_by_source.loc[prolific_sources,:]\n",
    "trimmed_proportion_topic_by_source.top_economy.nlargest(25)"
   ]
  },
  {
   "cell_type": "code",
   "execution_count": null,
   "metadata": {
    "collapsed": true
   },
   "outputs": [],
   "source": [
    "source_topic = news_final.loc[:,['Source','Topic','SentimentMax']].groupby(['Source','Topic']).mean()"
   ]
  },
  {
   "cell_type": "markdown",
   "metadata": {},
   "source": [
    "## Unstacking grouped object and filtering to just sources in top 500 of stories written"
   ]
  },
  {
   "cell_type": "code",
   "execution_count": null,
   "metadata": {
    "collapsed": true
   },
   "outputs": [],
   "source": [
    "source_topic_sentiment = source_topic.loc[prolific_sources,:].reset_index()\n",
    "source_topic_sentiment = source_topic_sentiment[source_topic_sentiment.Source != \" \"]"
   ]
  },
  {
   "cell_type": "code",
   "execution_count": null,
   "metadata": {
    "collapsed": false
   },
   "outputs": [],
   "source": [
    "source_topic_sentiment.head(16)"
   ]
  },
  {
   "cell_type": "code",
   "execution_count": null,
   "metadata": {
    "collapsed": false
   },
   "outputs": [],
   "source": [
    "len(source_topic_sentiment.Source.value_counts() > 3)"
   ]
  },
  {
   "cell_type": "code",
   "execution_count": null,
   "metadata": {
    "collapsed": true
   },
   "outputs": [],
   "source": [
    "obama_economy = source_topic_sentiment[(source_topic_sentiment.Topic == 'economy') |(source_topic_sentiment.Topic == 'obama')]"
   ]
  },
  {
   "cell_type": "code",
   "execution_count": null,
   "metadata": {
    "collapsed": true
   },
   "outputs": [],
   "source": [
    "obama_economy = pd.pivot_table(obama_economy,values='SentimentMax',columns=['Topic'],index='Source')"
   ]
  },
  {
   "cell_type": "code",
   "execution_count": null,
   "metadata": {
    "collapsed": false
   },
   "outputs": [],
   "source": [
    "obama_economy.dropna(inplace=True)\n",
    "obama_economy.head(15)"
   ]
  },
  {
   "cell_type": "code",
   "execution_count": null,
   "metadata": {
    "collapsed": false
   },
   "outputs": [],
   "source": [
    "economy = obama_economy['economy'].values\n",
    "obama = obama_economy['obama'].values\n",
    "\n",
    "quad = np.polyfit(economy, obama,deg=1)\n",
    "\n",
    "x = np.linspace(min(economy),max(economy),20)\n",
    "y = np.polyval(quad,x)\n",
    "\n",
    "plt.figure(figsize=(10,8))\n",
    "plt.plot(x,y,color='red')\n",
    "plt.plot(economy,obama,marker='.',linestyle='none')\n",
    "plt.xlabel('Economy Sentiment Score')\n",
    "plt.ylabel('Obama Sentiment Score')\n",
    "plt.title('Obama and Economy Sentiment Correlation by News Source',fontsize=16)\n",
    "plt.show()"
   ]
  },
  {
   "cell_type": "markdown",
   "metadata": {},
   "source": [
    "### Very weak positive relationship among News Sources between economy and Obama sentimentality scores"
   ]
  },
  {
   "cell_type": "code",
   "execution_count": null,
   "metadata": {
    "collapsed": false
   },
   "outputs": [],
   "source": [
    "obama_economy.loc[:,['obama','economy']].plot(subplots=True,kind='hist',sharex=True,sharey=True,bins=20)"
   ]
  },
  {
   "cell_type": "markdown",
   "metadata": {},
   "source": [
    "### Time Series Analyses ###\n",
    "\n",
    "#### Part One: Overall News Popularity by Platform ####"
   ]
  },
  {
   "cell_type": "code",
   "execution_count": null,
   "metadata": {
    "collapsed": true
   },
   "outputs": [],
   "source": [
    "news_timeline = news_final.set_index('PublishDate')"
   ]
  },
  {
   "cell_type": "code",
   "execution_count": null,
   "metadata": {
    "collapsed": true
   },
   "outputs": [],
   "source": [
    "news_timeline.index = pd.DatetimeIndex(news_timeline.index)"
   ]
  },
  {
   "cell_type": "code",
   "execution_count": null,
   "metadata": {
    "collapsed": true
   },
   "outputs": [],
   "source": [
    "news_timeline.IDLink = news_timeline.IDLink.astype('int').astype('object')"
   ]
  },
  {
   "cell_type": "code",
   "execution_count": null,
   "metadata": {
    "collapsed": true
   },
   "outputs": [],
   "source": [
    "news_timeline = news_timeline.loc['2015':,:]"
   ]
  },
  {
   "cell_type": "code",
   "execution_count": null,
   "metadata": {
    "collapsed": true
   },
   "outputs": [],
   "source": [
    "news_timeline = news_timeline.resample('D').mean()"
   ]
  },
  {
   "cell_type": "code",
   "execution_count": null,
   "metadata": {
    "collapsed": true
   },
   "outputs": [],
   "source": [
    "news_timeline = trendify_mean(news_timeline,normalize=True)\n",
    "'''\n",
    "all_trends = []\n",
    "\n",
    "for c in ['Facebook','GooglePlus','LinkedIn','SentimentMax']:\n",
    "    news_timeline['{}Normalized'.format(c)] = news_timeline[c].div(news_timeline.loc['2015-11-12',c]).sub(1).mul(100)\n",
    "    news_timeline['{}WeeklyTrend'.format(c)] = news_timeline['{}Normalized'.format(c)].rolling(7).mean()\n",
    "    all_trends.append('{}WeeklyTrend'.format(c))\n",
    "\n",
    "news_timeline_trimmed = news_timeline.loc['2015-11-12':,all_trends]'''"
   ]
  },
  {
   "cell_type": "code",
   "execution_count": null,
   "metadata": {
    "collapsed": false
   },
   "outputs": [],
   "source": [
    "news_timeline_trimmed.head(10)"
   ]
  },
  {
   "cell_type": "code",
   "execution_count": null,
   "metadata": {
    "collapsed": true
   },
   "outputs": [],
   "source": [
    "news_platforms = ['FacebookWeeklyTrend','GooglePlusWeeklyTrend','LinkedInWeeklyTrend']"
   ]
  },
  {
   "cell_type": "code",
   "execution_count": null,
   "metadata": {
    "collapsed": false
   },
   "outputs": [],
   "source": [
    "fig = plt.figure()\n",
    "\n",
    "fig.set_figheight(10)\n",
    "fig.set_figwidth(12)\n",
    "_ = news_timeline_trimmed[news_platforms].plot(figsize=(12,10))\n",
    "\n",
    "_ = plt.annotate('Microsoft Announces LinkedIn Purchase',\n",
    "                xy=('2016-06-18',news_timeline_trimmed['LinkedInWeeklyTrend'].max()),\n",
    "             xytext=('2016-07-15',news_timeline_trimmed['LinkedInWeeklyTrend'].max()-50), \n",
    "            arrowprops={'facecolor':'green'})\n",
    "\n",
    "_ = plt.annotate('Obama Endorses Hillary Clinton (?)',\n",
    "                 xy=('2016-06-11',news_timeline_trimmed['SentimentMaxWeeklyTrend'].min()),\n",
    "                 xytext=('2016-07-15',news_timeline_trimmed['SentimentMaxWeeklyTrend'].min()+15),\n",
    "                arrowprops={'facecolor':'red','alpha':.5})\n",
    "\n",
    "_ = news_timeline_trimmed['SentimentMaxWeeklyTrend'].plot(linestyle='--',alpha=.5,legend=True)\n",
    "\n",
    "_ = plt.ylabel('Percent Change')\n",
    "_ = plt.title('Weekly Percent Change in Overall Popularity: November 2015 - July 2016',fontsize=16)\n",
    "_ = plt.text(0.05,0.05,\"*Based on average popularity of top 500 most active news outlets\")\n",
    "_ = plt.legend(loc='upper center')\n",
    "\n",
    "\n",
    "plt.show()"
   ]
  },
  {
   "cell_type": "code",
   "execution_count": null,
   "metadata": {
    "collapsed": true
   },
   "outputs": [],
   "source": []
  }
 ],
 "metadata": {
  "kernelspec": {
   "display_name": "Python 3",
   "language": "python",
   "name": "python3"
  },
  "language_info": {
   "codemirror_mode": {
    "name": "ipython",
    "version": 3
   },
   "file_extension": ".py",
   "mimetype": "text/x-python",
   "name": "python",
   "nbconvert_exporter": "python",
   "pygments_lexer": "ipython3",
   "version": "3.6.0"
  }
 },
 "nbformat": 4,
 "nbformat_minor": 2
}
